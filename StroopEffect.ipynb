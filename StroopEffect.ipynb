{
 "cells": [
  {
   "cell_type": "code",
   "execution_count": 7,
   "metadata": {
    "collapsed": false
   },
   "outputs": [
    {
     "data": {
      "text/plain": [
       "' \\n Created by Laura Uzcategui \\n Date : 9 Aug 2015 \\n'"
      ]
     },
     "execution_count": 7,
     "metadata": {},
     "output_type": "execute_result"
    }
   ],
   "source": [
    "# Project 1 - Test a Perceptual Phenomenon \n",
    "''' \n",
    " Created by Laura Uzcategui \n",
    " Date : 9 Aug 2015 \n",
    "'''"
   ]
  },
  {
   "cell_type": "markdown",
   "metadata": {},
   "source": [
    "# The Stroop Effect\n",
    "\n",
    "In a Stroop task, participants are presented with a list of words, with each word displayed in a color of ink. The participant’s task is to say out loud the color of the ink in which the word is printed. The task has two conditions: a congruent words condition, and an incongruent words condition. In the congruent words condition, the words being displayed are color words whose names match the colors in which they are printed: for example RED, BLUE. In the incongruent words condition, the words displayed are color words whose names do not match the colors in which they are printed: for example PURPLE, ORANGE. In each case, we measure the time it takes to name the ink colors in equally-sized lists. Each participant will go through and record a time from each condition."
   ]
  },
  {
   "cell_type": "markdown",
   "metadata": {},
   "source": [
    "### 1. What is our independent variable? What is our dependent variable?\n",
    "\n",
    " * Independent Variable: In this case the independent variable would be the treatments applied to the participants. The treatments are: Congruent Words and Incongruent Words Condition.\n",
    " \n",
    " * Dependent Variable: the time that it takes to name the ink-colors for every treatment.\n",
    "  "
   ]
  },
  {
   "cell_type": "markdown",
   "metadata": {},
   "source": [
    "### 2. What is an appropriate set of hypotheses for this task? What kind of statistical test do you expect to perform? Justify your choices.\n",
    "\n",
    "The appropiate hypotheses for this task will be the following: \n",
    "* H0 ( Null hypotheses) : $\\mu C = \\mu I $ \n",
    "The mean population from the Congruent Words are not different from the Mean the Incongruent Words\n",
    "\n",
    "* H1 ( Alternative hypotheses) : $\\mu C \\ne \\mu I $ \n",
    "The mean population from the Congruent Words are different from the Mean the Incongruent Words\n",
    "\n",
    "The statistical test to perfom will be : 2-Sample T-Test, since we have 2 samples with same size and We want to measure if the means of both are significant different from each other."
   ]
  },
  {
   "cell_type": "code",
   "execution_count": 173,
   "metadata": {
    "collapsed": false
   },
   "outputs": [],
   "source": [
    "# importing pandas for manipulation of data\n",
    "import pandas as pd\n",
    "# importing scipy and matplotlib for creating and plotting the distributions\n",
    "import scipy.stats as stats\n",
    "import matplotlib\n",
    "matplotlib.style.use('ggplot')"
   ]
  },
  {
   "cell_type": "code",
   "execution_count": 174,
   "metadata": {
    "collapsed": true
   },
   "outputs": [],
   "source": [
    "# Loading the path of our data sample\n",
    "path = './stroopdata.csv'\n",
    "\n",
    "# Reading our data sample \n",
    "df = pd.read_csv(path)"
   ]
  },
  {
   "cell_type": "code",
   "execution_count": 168,
   "metadata": {
    "collapsed": false
   },
   "outputs": [],
   "source": [
    "# Printing our data"
   ]
  },
  {
   "cell_type": "markdown",
   "metadata": {},
   "source": [
    "### Descriptive Statistics\n",
    "\n",
    "In the next section you will observe some Descriptive Statistics for each sample.\n",
    "\n",
    "In order to be clear in the rest of the project, please notice the following notations: \n",
    "\n",
    "* $\\overline{x_c}  \\Rightarrow$ Mean of c ( Congruent Samples ) perfomance\n",
    "* $\\overline{x_i}  \\Rightarrow$ Mean of i ( Incongruent Samples ) perfomance\n"
   ]
  },
  {
   "cell_type": "markdown",
   "metadata": {},
   "source": [
    "### Value of $\\overline{x_c}$"
   ]
  },
  {
   "cell_type": "code",
   "execution_count": 134,
   "metadata": {
    "collapsed": false
   },
   "outputs": [],
   "source": [
    "#Calculating the Mean of Congruent Samples \n",
    "mean_c = round(df['Congruent (c)'].mean(),2)\n",
    "std_c = df['Congruent (c)'].std()\n"
   ]
  },
  {
   "cell_type": "code",
   "execution_count": 135,
   "metadata": {
    "collapsed": false,
    "scrolled": false
   },
   "outputs": [
    {
     "data": {
      "text/plain": [
       "14.05"
      ]
     },
     "execution_count": 135,
     "metadata": {},
     "output_type": "execute_result"
    }
   ],
   "source": [
    "mean_c"
   ]
  },
  {
   "cell_type": "code",
   "execution_count": 136,
   "metadata": {
    "collapsed": true
   },
   "outputs": [],
   "source": [
    "#Calculating the Mean of Incongruent Samples \n",
    "mean_i = round(df['Incongruent (i)'].mean(),2)\n",
    "std_i = df['Incongruent (i)'].std()"
   ]
  },
  {
   "cell_type": "markdown",
   "metadata": {},
   "source": [
    "### Value of $\\overline{x_i}$"
   ]
  },
  {
   "cell_type": "code",
   "execution_count": 137,
   "metadata": {
    "collapsed": false
   },
   "outputs": [
    {
     "data": {
      "text/plain": [
       "22.02"
      ]
     },
     "execution_count": 137,
     "metadata": {},
     "output_type": "execute_result"
    }
   ],
   "source": [
    "mean_i"
   ]
  },
  {
   "cell_type": "code",
   "execution_count": 138,
   "metadata": {
    "collapsed": false
   },
   "outputs": [],
   "source": [
    "# Calculating Point Estimate \n",
    "diff_samples = df['Congruent (c)'] - df['Incongruent (i)']\n",
    "point_e = round(diff_samples.mean(),2)"
   ]
  },
  {
   "cell_type": "code",
   "execution_count": 139,
   "metadata": {
    "collapsed": false
   },
   "outputs": [
    {
     "data": {
      "text/plain": [
       "-7.96"
      ]
     },
     "execution_count": 139,
     "metadata": {},
     "output_type": "execute_result"
    }
   ],
   "source": [
    "point_e"
   ]
  },
  {
   "cell_type": "code",
   "execution_count": 140,
   "metadata": {
    "collapsed": false
   },
   "outputs": [],
   "source": [
    "#Calculating Square Difference \n",
    "sq_diff = (diff_samples - point_e ) ** 2\n",
    "\n",
    "\n",
    "#Calculating some measures of variability \n",
    "variance = round( sq_diff.sum() / (sq_diff.count() - 1 ) ,2)"
   ]
  },
  {
   "cell_type": "markdown",
   "metadata": {},
   "source": [
    "### Variance"
   ]
  },
  {
   "cell_type": "code",
   "execution_count": 141,
   "metadata": {
    "collapsed": false
   },
   "outputs": [
    {
     "data": {
      "text/plain": [
       "23.67"
      ]
     },
     "execution_count": 141,
     "metadata": {},
     "output_type": "execute_result"
    }
   ],
   "source": [
    "variance"
   ]
  },
  {
   "cell_type": "markdown",
   "metadata": {},
   "source": [
    "### Standard Deviation ( S )"
   ]
  },
  {
   "cell_type": "code",
   "execution_count": 151,
   "metadata": {
    "collapsed": false
   },
   "outputs": [],
   "source": [
    "std_s = round(diff_samples.std(),2)"
   ]
  },
  {
   "cell_type": "code",
   "execution_count": 152,
   "metadata": {
    "collapsed": false
   },
   "outputs": [
    {
     "data": {
      "text/plain": [
       "4.86"
      ]
     },
     "execution_count": 152,
     "metadata": {},
     "output_type": "execute_result"
    }
   ],
   "source": [
    "std_s"
   ]
  },
  {
   "cell_type": "markdown",
   "metadata": {},
   "source": [
    "### Visualizations of sample data and the difference of samples"
   ]
  },
  {
   "cell_type": "code",
   "execution_count": 183,
   "metadata": {
    "collapsed": false
   },
   "outputs": [
    {
     "data": {
      "text/plain": [
       "0     12.079\n",
       "1     16.791\n",
       "2      9.564\n",
       "3      8.630\n",
       "4     14.669\n",
       "5     12.238\n",
       "6     14.692\n",
       "7      8.987\n",
       "8      9.401\n",
       "9     14.480\n",
       "10    22.328\n",
       "11    15.298\n",
       "12    15.073\n",
       "13    16.929\n",
       "14    18.200\n",
       "15    12.130\n",
       "16    18.495\n",
       "17    10.639\n",
       "18    11.344\n",
       "19    12.369\n",
       "20    12.944\n",
       "21    14.233\n",
       "22    19.710\n",
       "23    16.004\n",
       "Name: Congruent (c), dtype: float64"
      ]
     },
     "execution_count": 183,
     "metadata": {},
     "output_type": "execute_result"
    }
   ],
   "source": [
    "c = df['Congruent (c)']\n",
    "c\n",
    "#pdf = stats.norm.pdf(c, mean_c, std_c)\n",
    "#plt.plot(c, pdf) \n",
    "#plt.show()"
   ]
  }
 ],
 "metadata": {
  "kernelspec": {
   "display_name": "Python 2",
   "language": "python",
   "name": "python2"
  },
  "language_info": {
   "codemirror_mode": {
    "name": "ipython",
    "version": 2
   },
   "file_extension": ".py",
   "mimetype": "text/x-python",
   "name": "python",
   "nbconvert_exporter": "python",
   "pygments_lexer": "ipython2",
   "version": "2.7.10"
  }
 },
 "nbformat": 4,
 "nbformat_minor": 0
}
