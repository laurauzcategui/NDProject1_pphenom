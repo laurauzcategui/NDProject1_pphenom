{
 "cells": [
  {
   "cell_type": "code",
   "execution_count": 1,
   "metadata": {
    "collapsed": false
   },
   "outputs": [
    {
     "data": {
      "text/plain": [
       "'\\nCreated by Laura Uzcategui \\nDate : 9 Aug 2015 \\n'"
      ]
     },
     "execution_count": 1,
     "metadata": {},
     "output_type": "execute_result"
    }
   ],
   "source": [
    "# Project 1 - Test a Perceptual Phenomenon \n",
    "'''\n",
    "Created by Laura Uzcategui \n",
    "Date : 9 Aug 2015 \n",
    "'''"
   ]
  },
  {
   "cell_type": "markdown",
   "metadata": {},
   "source": [
    "# The Stroop Effect\n",
    "\n",
    "In a Stroop task, participants are presented with a list of words, with each word displayed in a color of ink. The participant’s task is to say out loud the color of the ink in which the word is printed. The task has two conditions: a congruent words condition, and an incongruent words condition. In the congruent words condition, the words being displayed are color words whose names match the colors in which they are printed: for example RED, BLUE. In the incongruent words condition, the words displayed are color words whose names do not match the colors in which they are printed: for example PURPLE, ORANGE. In each case, we measure the time it takes to name the ink colors in equally-sized lists. Each participant will go through and record a time from each condition."
   ]
  },
  {
   "cell_type": "markdown",
   "metadata": {},
   "source": [
    "### 1. What is our independent variable? What is our dependent variable?\n",
    "\n",
    " * Independent Variable: In this case the independent variable would be the treatments applied to the participants. The treatments are: Congruent Words and Incongruent Words Condition.\n",
    " \n",
    " * Dependent Variable: the time that it takes to name the ink-colors for every treatment.\n",
    "  "
   ]
  },
  {
   "cell_type": "markdown",
   "metadata": {},
   "source": [
    "### 2. What is an appropriate set of hypotheses for this task? What kind of statistical test do you expect to perform? Justify your choices.\n",
    "\n",
    "The appropiate hypotheses for this task will be the following: \n",
    "* H0 ( Null hypotheses) : $\\mu C = \\mu I $ \n",
    "The mean population from the Congruent Words are not different from the Mean the Incongruent Words\n",
    "\n",
    "* H1 ( Alternative hypotheses) : $\\mu C - \\mu I  < 0 $ \n",
    "The difference of Congruent and Incongruent is less than zero ( One Tail Test) \n",
    "\n",
    "The statistical test to perfom will be : 2-Sample T-Test, since we have 2 samples with same size and We want to measure if the difference from the means are less than zero, so that this test will be a One Tail test. "
   ]
  },
  {
   "cell_type": "code",
   "execution_count": 2,
   "metadata": {
    "collapsed": false
   },
   "outputs": [
    {
     "name": "stdout",
     "output_type": "stream",
     "text": [
      "Populating the interactive namespace from numpy and matplotlib\n"
     ]
    }
   ],
   "source": [
    "# making available graphs inline\n",
    "%pylab inline\n",
    "# importing pandas for manipulation of data\n",
    "import pandas as pd\n",
    "# importing scipy and matplotlib for creating and plotting the distributions\n",
    "import numpy as np\n",
    "import matplotlib.pyplot as plt\n",
    "import matplotlib.mlab as mlab"
   ]
  },
  {
   "cell_type": "code",
   "execution_count": 3,
   "metadata": {
    "collapsed": true
   },
   "outputs": [],
   "source": [
    "# Loading the path of our data sample\n",
    "path = './stroopdata.csv'\n",
    "\n",
    "# Reading our data sample \n",
    "df = pd.read_csv(path)"
   ]
  },
  {
   "cell_type": "code",
   "execution_count": 4,
   "metadata": {
    "collapsed": false
   },
   "outputs": [
    {
     "data": {
      "text/html": [
       "<div>\n",
       "<table border=\"1\" class=\"dataframe\">\n",
       "  <thead>\n",
       "    <tr style=\"text-align: right;\">\n",
       "      <th></th>\n",
       "      <th>Congruent (c)</th>\n",
       "      <th>Incongruent (i)</th>\n",
       "    </tr>\n",
       "  </thead>\n",
       "  <tbody>\n",
       "    <tr>\n",
       "      <th>0</th>\n",
       "      <td>12.079</td>\n",
       "      <td>19.278</td>\n",
       "    </tr>\n",
       "    <tr>\n",
       "      <th>1</th>\n",
       "      <td>16.791</td>\n",
       "      <td>18.741</td>\n",
       "    </tr>\n",
       "    <tr>\n",
       "      <th>2</th>\n",
       "      <td>9.564</td>\n",
       "      <td>21.214</td>\n",
       "    </tr>\n",
       "    <tr>\n",
       "      <th>3</th>\n",
       "      <td>8.630</td>\n",
       "      <td>15.687</td>\n",
       "    </tr>\n",
       "    <tr>\n",
       "      <th>4</th>\n",
       "      <td>14.669</td>\n",
       "      <td>22.803</td>\n",
       "    </tr>\n",
       "    <tr>\n",
       "      <th>5</th>\n",
       "      <td>12.238</td>\n",
       "      <td>20.878</td>\n",
       "    </tr>\n",
       "    <tr>\n",
       "      <th>6</th>\n",
       "      <td>14.692</td>\n",
       "      <td>24.572</td>\n",
       "    </tr>\n",
       "    <tr>\n",
       "      <th>7</th>\n",
       "      <td>8.987</td>\n",
       "      <td>17.394</td>\n",
       "    </tr>\n",
       "    <tr>\n",
       "      <th>8</th>\n",
       "      <td>9.401</td>\n",
       "      <td>20.762</td>\n",
       "    </tr>\n",
       "    <tr>\n",
       "      <th>9</th>\n",
       "      <td>14.480</td>\n",
       "      <td>26.282</td>\n",
       "    </tr>\n",
       "    <tr>\n",
       "      <th>10</th>\n",
       "      <td>22.328</td>\n",
       "      <td>24.524</td>\n",
       "    </tr>\n",
       "    <tr>\n",
       "      <th>11</th>\n",
       "      <td>15.298</td>\n",
       "      <td>18.644</td>\n",
       "    </tr>\n",
       "    <tr>\n",
       "      <th>12</th>\n",
       "      <td>15.073</td>\n",
       "      <td>17.510</td>\n",
       "    </tr>\n",
       "    <tr>\n",
       "      <th>13</th>\n",
       "      <td>16.929</td>\n",
       "      <td>20.330</td>\n",
       "    </tr>\n",
       "    <tr>\n",
       "      <th>14</th>\n",
       "      <td>18.200</td>\n",
       "      <td>35.255</td>\n",
       "    </tr>\n",
       "    <tr>\n",
       "      <th>15</th>\n",
       "      <td>12.130</td>\n",
       "      <td>22.158</td>\n",
       "    </tr>\n",
       "    <tr>\n",
       "      <th>16</th>\n",
       "      <td>18.495</td>\n",
       "      <td>25.139</td>\n",
       "    </tr>\n",
       "    <tr>\n",
       "      <th>17</th>\n",
       "      <td>10.639</td>\n",
       "      <td>20.429</td>\n",
       "    </tr>\n",
       "    <tr>\n",
       "      <th>18</th>\n",
       "      <td>11.344</td>\n",
       "      <td>17.425</td>\n",
       "    </tr>\n",
       "    <tr>\n",
       "      <th>19</th>\n",
       "      <td>12.369</td>\n",
       "      <td>34.288</td>\n",
       "    </tr>\n",
       "    <tr>\n",
       "      <th>20</th>\n",
       "      <td>12.944</td>\n",
       "      <td>23.894</td>\n",
       "    </tr>\n",
       "    <tr>\n",
       "      <th>21</th>\n",
       "      <td>14.233</td>\n",
       "      <td>17.960</td>\n",
       "    </tr>\n",
       "    <tr>\n",
       "      <th>22</th>\n",
       "      <td>19.710</td>\n",
       "      <td>22.058</td>\n",
       "    </tr>\n",
       "    <tr>\n",
       "      <th>23</th>\n",
       "      <td>16.004</td>\n",
       "      <td>21.157</td>\n",
       "    </tr>\n",
       "  </tbody>\n",
       "</table>\n",
       "</div>"
      ],
      "text/plain": [
       "    Congruent (c)  Incongruent (i)\n",
       "0          12.079           19.278\n",
       "1          16.791           18.741\n",
       "2           9.564           21.214\n",
       "3           8.630           15.687\n",
       "4          14.669           22.803\n",
       "5          12.238           20.878\n",
       "6          14.692           24.572\n",
       "7           8.987           17.394\n",
       "8           9.401           20.762\n",
       "9          14.480           26.282\n",
       "10         22.328           24.524\n",
       "11         15.298           18.644\n",
       "12         15.073           17.510\n",
       "13         16.929           20.330\n",
       "14         18.200           35.255\n",
       "15         12.130           22.158\n",
       "16         18.495           25.139\n",
       "17         10.639           20.429\n",
       "18         11.344           17.425\n",
       "19         12.369           34.288\n",
       "20         12.944           23.894\n",
       "21         14.233           17.960\n",
       "22         19.710           22.058\n",
       "23         16.004           21.157"
      ]
     },
     "execution_count": 4,
     "metadata": {},
     "output_type": "execute_result"
    }
   ],
   "source": [
    "# Printing our data\n",
    "df"
   ]
  },
  {
   "cell_type": "markdown",
   "metadata": {},
   "source": [
    "### Descriptive Statistics\n",
    "\n",
    "In the next section you will observe some Descriptive Statistics for each sample.\n",
    "\n",
    "In order to be clear in the rest of the project, please notice the following notations: \n",
    "\n",
    "* $\\overline{x_c}  \\Rightarrow$ Mean of c ( Congruent Samples ) perfomance\n",
    "* $\\overline{x_i}  \\Rightarrow$ Mean of i ( Incongruent Samples ) perfomance\n"
   ]
  },
  {
   "cell_type": "markdown",
   "metadata": {},
   "source": [
    "### Value of $\\overline{x_c}$"
   ]
  },
  {
   "cell_type": "code",
   "execution_count": 9,
   "metadata": {
    "collapsed": false
   },
   "outputs": [
    {
     "data": {
      "text/plain": [
       "14.05"
      ]
     },
     "execution_count": 9,
     "metadata": {},
     "output_type": "execute_result"
    }
   ],
   "source": [
    "#Calculating the Mean of Congruent Samples \n",
    "mean_c = round(df['Congruent (c)'].mean(),2)\n",
    "mean_c"
   ]
  },
  {
   "cell_type": "markdown",
   "metadata": {},
   "source": [
    "### Value of $\\sigma {c}$"
   ]
  },
  {
   "cell_type": "code",
   "execution_count": 10,
   "metadata": {
    "collapsed": false
   },
   "outputs": [
    {
     "data": {
      "text/plain": [
       "3.56"
      ]
     },
     "execution_count": 10,
     "metadata": {},
     "output_type": "execute_result"
    }
   ],
   "source": [
    "#Calculating the standard deviation of Congruent Samples\n",
    "std_c = round(df['Congruent (c)'].std(),2)\n",
    "std_c"
   ]
  },
  {
   "cell_type": "markdown",
   "metadata": {},
   "source": [
    "### Value of $\\overline{x_i}$"
   ]
  },
  {
   "cell_type": "code",
   "execution_count": 11,
   "metadata": {
    "collapsed": false
   },
   "outputs": [
    {
     "data": {
      "text/plain": [
       "22.02"
      ]
     },
     "execution_count": 11,
     "metadata": {},
     "output_type": "execute_result"
    }
   ],
   "source": [
    "#Calculating the Mean of Incongruent Samples \n",
    "mean_i = round(df['Incongruent (i)'].mean(),2)\n",
    "mean_i"
   ]
  },
  {
   "cell_type": "markdown",
   "metadata": {},
   "source": [
    "### Value of $\\sigma {i}$"
   ]
  },
  {
   "cell_type": "code",
   "execution_count": 12,
   "metadata": {
    "collapsed": false
   },
   "outputs": [
    {
     "data": {
      "text/plain": [
       "4.8"
      ]
     },
     "execution_count": 12,
     "metadata": {},
     "output_type": "execute_result"
    }
   ],
   "source": [
    "#Calculating the standard deviation of Incongruent Samples\n",
    "std_i = round(df['Incongruent (i)'].std(),2)\n",
    "std_i"
   ]
  },
  {
   "cell_type": "code",
   "execution_count": 13,
   "metadata": {
    "collapsed": false
   },
   "outputs": [],
   "source": [
    "# Calculating Point Estimate \n",
    "diff_samples = df['Congruent (c)'] - df['Incongruent (i)']\n",
    "point_e = round(diff_samples.mean(),2)"
   ]
  },
  {
   "cell_type": "code",
   "execution_count": 14,
   "metadata": {
    "collapsed": false
   },
   "outputs": [
    {
     "data": {
      "text/plain": [
       "-7.96"
      ]
     },
     "execution_count": 14,
     "metadata": {},
     "output_type": "execute_result"
    }
   ],
   "source": [
    "point_e"
   ]
  },
  {
   "cell_type": "code",
   "execution_count": 15,
   "metadata": {
    "collapsed": false
   },
   "outputs": [],
   "source": [
    "#Calculating Square Difference \n",
    "sq_diff = (diff_samples - point_e ) ** 2"
   ]
  },
  {
   "cell_type": "code",
   "execution_count": 16,
   "metadata": {
    "collapsed": true
   },
   "outputs": [],
   "source": [
    "#Calculating some measures of variability \n",
    "variance = round( sq_diff.sum() / (sq_diff.count() - 1 ) ,2)"
   ]
  },
  {
   "cell_type": "markdown",
   "metadata": {},
   "source": [
    "### Variance"
   ]
  },
  {
   "cell_type": "code",
   "execution_count": 17,
   "metadata": {
    "collapsed": false
   },
   "outputs": [
    {
     "data": {
      "text/plain": [
       "23.67"
      ]
     },
     "execution_count": 17,
     "metadata": {},
     "output_type": "execute_result"
    }
   ],
   "source": [
    "variance"
   ]
  },
  {
   "cell_type": "markdown",
   "metadata": {},
   "source": [
    "### Standard Deviation ( S ) "
   ]
  },
  {
   "cell_type": "code",
   "execution_count": 18,
   "metadata": {
    "collapsed": false
   },
   "outputs": [],
   "source": [
    "#Calculating the sample standard deviation of the differences\n",
    "std_s = round(diff_samples.std(),2)"
   ]
  },
  {
   "cell_type": "code",
   "execution_count": 19,
   "metadata": {
    "collapsed": false
   },
   "outputs": [
    {
     "data": {
      "text/plain": [
       "4.86"
      ]
     },
     "execution_count": 19,
     "metadata": {},
     "output_type": "execute_result"
    }
   ],
   "source": [
    "std_s"
   ]
  },
  {
   "cell_type": "markdown",
   "metadata": {},
   "source": [
    "### Visualizations of sample data and the difference of samples\n",
    "\n",
    "As you can observed in the following Normal Distribution plots for Congruents and Incongruents samples, the plot for Congruent samples is more skinny, in the other hand the plot for Incongruent sample looks like is more spread out,as a conclusion we can confirm that the smaller standard deviation the skinnier the sample distribution. "
   ]
  },
  {
   "cell_type": "code",
   "execution_count": 20,
   "metadata": {
    "collapsed": false
   },
   "outputs": [
    {
     "data": {
      "text/plain": [
       "[<matplotlib.lines.Line2D at 0x7effa1cf8e10>]"
      ]
     },
     "execution_count": 20,
     "metadata": {},
     "output_type": "execute_result"
    },
    {
     "data": {
      "image/png": "[encoded data removed]",
      "text/plain": [
       "<matplotlib.figure.Figure at 0x7effaf3d97d0>"
      ]
     },
     "metadata": {},
     "output_type": "display_data"
    }
   ],
   "source": [
    "# Plotting Normal Distribution for Congruent Words \n",
    "\n",
    "bin_c = np.linspace(0,40,100)\n",
    "plt.plot(bin_c,mlab.normpdf(bin_c,mean_c,std_c))"
   ]
  },
  {
   "cell_type": "code",
   "execution_count": 21,
   "metadata": {
    "collapsed": false
   },
   "outputs": [
    {
     "data": {
      "text/plain": [
       "[<matplotlib.lines.Line2D at 0x7effa1b8b090>]"
      ]
     },
     "execution_count": 21,
     "metadata": {},
     "output_type": "execute_result"
    },
    {
     "data": {
      "image/png": "[encoded data removed]",
      "text/plain": [
       "<matplotlib.figure.Figure at 0x7effa1cb2750>"
      ]
     },
     "metadata": {},
     "output_type": "display_data"
    }
   ],
   "source": [
    "# Plotting Normal Distribution for Incongruent Words \n",
    "\n",
    "bin_i = np.linspace(0,40,100)\n",
    "plt.plot(bin_i,mlab.normpdf(bin_i,mean_i,std_i))"
   ]
  },
  {
   "cell_type": "markdown",
   "metadata": {
    "collapsed": true
   },
   "source": [
    "### $\\alpha$ Level  - Confidence Level \n",
    "\n",
    "Our $\\alpha$ level will be : 0.05 (5%) - One tail T-test\n",
    "\n",
    "#### Degrees of Freedom \n",
    "\n",
    "df = n - 1, where n = 24 \n",
    "df = 23\n",
    "\n",
    "### T Critical Value \n",
    "t(23) = -1.714\n"
   ]
  },
  {
   "cell_type": "code",
   "execution_count": 22,
   "metadata": {
    "collapsed": false
   },
   "outputs": [
    {
     "data": {
      "text/plain": [
       "-8.02"
      ]
     },
     "execution_count": 22,
     "metadata": {},
     "output_type": "execute_result"
    }
   ],
   "source": [
    "#Calculating t-statistic value \n",
    "\n",
    "t_stat = round(point_e / (std_s / sqrt(sq_diff.count())),2)\n",
    "t_stat"
   ]
  },
  {
   "cell_type": "markdown",
   "metadata": {},
   "source": [
    "### Results of the study\n",
    "\n",
    "Based on the calculation for T-statistic. \n",
    "\n",
    "t(23) = -1.714, p < 0.0001, one tail test negative\n",
    "\n",
    "##### p value was calculated from Quick Calcs [3] \n",
    "\n",
    "##### if we express this as per calculated by hand would be : \n",
    "t(23) = -1.714, p < 0.05, one tail test negative\n",
    "\n",
    "t_statistic < t_critical value so that :\n",
    "-8.02 < -1.714 \n",
    "\n",
    "We reject the null and said that the difference is statistically significant since falls in the critical region. Based on results of the test, the conclusion will be that it match with the alternative hypothesis proposed above. \n",
    "c\n",
    "Particularly and after some research, it is believed that there are interference between the fact that the colors are not the same as the word and this could cause some kind of distraction in the subject who is taking the test. This test can ben done as well with another kind of interference such as figures, or putting the word in reverse and so on, also would be interesting to compare this performance between subjects at different ages and the cognitive and memory process. \n",
    "\n"
   ]
  },
  {
   "cell_type": "markdown",
   "metadata": {},
   "source": [
    "### References. \n",
    "\n",
    "[1] MacLeod CM. (1991) Half a century of research on the Stroop effect: an integrative review.\n",
    "\n",
    "[2] MacLeod CM and McDonald P (2000) Interdimensional interference in the Stroop effect: uncovering the cognitive and neural anatomy of attention.\n",
    "\n",
    "[3] Quick calcs (http://www.graphpad.com/quickcalcs/)"
   ]
  }
 ],
 "metadata": {
  "kernelspec": {
   "display_name": "Python 2",
   "language": "python",
   "name": "python2"
  },
  "language_info": {
   "codemirror_mode": {
    "name": "ipython",
    "version": 2
   },
   "file_extension": ".py",
   "mimetype": "text/x-python",
   "name": "python",
   "nbconvert_exporter": "python",
   "pygments_lexer": "ipython2",
   "version": "2.7.10"
  }
 },
 "nbformat": 4,
 "nbformat_minor": 0
}
