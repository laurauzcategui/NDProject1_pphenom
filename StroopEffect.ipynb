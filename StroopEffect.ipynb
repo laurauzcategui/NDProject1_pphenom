{
 "cells": [
  {
   "cell_type": "code",
   "execution_count": 7,
   "metadata": {
    "collapsed": false
   },
   "outputs": [
    {
     "data": {
      "text/plain": [
       "' \\n Created by Laura Uzcategui \\n Date : 9 Aug 2015 \\n'"
      ]
     },
     "execution_count": 7,
     "metadata": {},
     "output_type": "execute_result"
    }
   ],
   "source": [
    "# Project 1 - Test a Perceptual Phenomenon \n",
    "''' \n",
    " Created by Laura Uzcategui \n",
    " Date : 9 Aug 2015 \n",
    "'''"
   ]
  },
  {
   "cell_type": "markdown",
   "metadata": {},
   "source": [
    "# The Stroop Effect\n",
    "\n",
    "In a Stroop task, participants are presented with a list of words, with each word displayed in a color of ink. The participant’s task is to say out loud the color of the ink in which the word is printed. The task has two conditions: a congruent words condition, and an incongruent words condition. In the congruent words condition, the words being displayed are color words whose names match the colors in which they are printed: for example RED, BLUE. In the incongruent words condition, the words displayed are color words whose names do not match the colors in which they are printed: for example PURPLE, ORANGE. In each case, we measure the time it takes to name the ink colors in equally-sized lists. Each participant will go through and record a time from each condition."
   ]
  },
  {
   "cell_type": "markdown",
   "metadata": {},
   "source": [
    "### 1. What is our independent variable? What is our dependent variable?\n",
    "\n",
    " * Independent Variable: In this case the independent variable would be the treatments applied to the participants. The treatments are: Congruent Words and Incongruent Words Condition.\n",
    " \n",
    " * Dependent Variable: the time that it takes to name the ink-colors for every treatment.\n",
    "  "
   ]
  },
  {
   "cell_type": "markdown",
   "metadata": {},
   "source": [
    "### 2. What is an appropriate set of hypotheses for this task? What kind of statistical test do you expect to perform? Justify your choices.\n",
    "\n",
    "The appropiate hypotheses for this task will be the following: \n",
    "* H0 ( Null hypotheses) : $\\mu C = \\mu I $ \n",
    "The mean population from the Congruent Words are not different from the Mean the Incongruent Words\n",
    "\n",
    "* H1 ( Alternative hypotheses) : $\\mu C \\ne \\mu I $ \n",
    "The mean population from the Congruent Words are different from the Mean the Incongruent Words\n",
    "\n",
    "The statistical test to perfom will be : 2-Sample T-Test, since we have 2 samples and We don't have data from the population.    "
   ]
  },
  {
   "cell_type": "code",
   "execution_count": 8,
   "metadata": {
    "collapsed": true
   },
   "outputs": [],
   "source": [
    "# importing pandas for manipulation of data\n",
    "import pandas as pd"
   ]
  },
  {
   "cell_type": "code",
   "execution_count": null,
   "metadata": {
    "collapsed": true
   },
   "outputs": [],
   "source": []
  }
 ],
 "metadata": {
  "kernelspec": {
   "display_name": "Python 2",
   "language": "python",
   "name": "python2"
  },
  "language_info": {
   "codemirror_mode": {
    "name": "ipython",
    "version": 2
   },
   "file_extension": ".py",
   "mimetype": "text/x-python",
   "name": "python",
   "nbconvert_exporter": "python",
   "pygments_lexer": "ipython2",
   "version": "2.7.10"
  }
 },
 "nbformat": 4,
 "nbformat_minor": 0
}
